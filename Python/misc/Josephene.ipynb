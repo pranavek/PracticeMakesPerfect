{
 "cells": [
  {
   "cell_type": "code",
   "execution_count": 3,
   "metadata": {},
   "outputs": [
    {
     "name": "stdout",
     "output_type": "stream",
     "text": [
      "2\n",
      "4\n",
      "6\n",
      "1\n",
      "5\n",
      "3\n",
      "survivor: 7\n"
     ]
    }
   ],
   "source": [
    "from collections import deque\n",
    "\n",
    "soldiers = deque([*range(1,8)])\n",
    "\n",
    "while len(soldiers) > 1:\n",
    "    soldiers.rotate(-2)\n",
    "    print(soldiers.pop())\n",
    "print('survivor:' , soldiers.pop())"
   ]
  },
  {
   "cell_type": "code",
   "execution_count": 10,
   "metadata": {},
   "outputs": [
    {
     "name": "stdout",
     "output_type": "stream",
     "text": [
      "0b101001\n",
      "<class 'str'>\n",
      "The survivor is 19\n"
     ]
    }
   ],
   "source": [
    "b = bin(41)\n",
    "print(b)\n",
    "survivor = b[3:]+b[2] \n",
    "print(type(survivor))\n",
    "print('The survivor is',int(survivor,2))"
   ]
  },
  {
   "cell_type": "code",
   "execution_count": 6,
   "metadata": {},
   "outputs": [
    {
     "name": "stdout",
     "output_type": "stream",
     "text": [
      "deque([7, 1, 2, 3, 4, 5, 6])\n"
     ]
    }
   ],
   "source": [
    "soldiers = deque([*range(1,8)])\n",
    "soldiers.rotate()\n",
    "print(soldiers)"
   ]
  },
  {
   "cell_type": "code",
   "execution_count": null,
   "metadata": {},
   "outputs": [],
   "source": []
  }
 ],
 "metadata": {
  "kernelspec": {
   "display_name": "Python 3",
   "language": "python",
   "name": "python3"
  },
  "language_info": {
   "codemirror_mode": {
    "name": "ipython",
    "version": 3
   },
   "file_extension": ".py",
   "mimetype": "text/x-python",
   "name": "python",
   "nbconvert_exporter": "python",
   "pygments_lexer": "ipython3",
   "version": "3.6.9"
  }
 },
 "nbformat": 4,
 "nbformat_minor": 4
}
